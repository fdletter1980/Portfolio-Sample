{
 "cells": [
  {
   "cell_type": "code",
   "execution_count": null,
   "id": "8770703e",
   "metadata": {},
   "outputs": [],
   "source": [
    "#pip install llama-index"
   ]
  },
  {
   "cell_type": "code",
   "execution_count": null,
   "id": "d5d283e0",
   "metadata": {},
   "outputs": [],
   "source": [
    "#pip install psycopg2-binary "
   ]
  },
  {
   "cell_type": "code",
   "execution_count": 2,
   "id": "68b6b0db",
   "metadata": {},
   "outputs": [],
   "source": [
    "# Needs older version to work\n",
    "#pip install langchain==0.0.188"
   ]
  },
  {
   "cell_type": "code",
   "execution_count": 34,
   "id": "db8cb698",
   "metadata": {},
   "outputs": [],
   "source": [
    "import os\n",
    "os.environ[\"OPENAI_API_KEY\"] = ''\n",
    "\n",
    "from llama_index import VectorStoreIndex, SimpleDirectoryReader, download_loader\n",
    "from pathlib import Path\n",
    "import streamlit as st # import the Streamlit library\n",
    "from langchain.chains import LLMChain, SimpleSequentialChain # import LangChain libraries\n",
    "from langchain.llms import OpenAI # import OpenAI model\n",
    "from langchain.prompts import PromptTemplate # import PromptTemplate"
   ]
  },
  {
   "cell_type": "markdown",
   "id": "c2e5fca9",
   "metadata": {},
   "source": [
    "# Single Loader"
   ]
  },
  {
   "cell_type": "code",
   "execution_count": null,
   "id": "a955a573",
   "metadata": {},
   "outputs": [],
   "source": [
    "# Source for different data loader connections\n",
    "# https://llamahub.ai/"
   ]
  },
  {
   "cell_type": "code",
   "execution_count": 40,
   "id": "d28ba858",
   "metadata": {},
   "outputs": [],
   "source": [
    "PandasCSVReader = download_loader(\"PandasCSVReader\")\n",
    "\n",
    "loader = PandasCSVReader()\n",
    "documents = loader.load_data(file=Path('./bank.csv'))\n",
    "index = VectorStoreIndex.from_documents(documents)"
   ]
  },
  {
   "cell_type": "code",
   "execution_count": 18,
   "id": "a6339783",
   "metadata": {
    "scrolled": true
   },
   "outputs": [],
   "source": [
    "#query_engine = index.as_query_engine()\n",
    "#query_engine.query(\"What is the customerid of Hargrave?\")"
   ]
  },
  {
   "cell_type": "markdown",
   "id": "60051b73",
   "metadata": {},
   "source": [
    "# LangChain"
   ]
  },
  {
   "cell_type": "code",
   "execution_count": 41,
   "id": "321de459",
   "metadata": {},
   "outputs": [],
   "source": [
    "from langchain.agents import Tool\n",
    "tools = [\n",
    "    Tool(\n",
    "        name = \"GPT Index\",\n",
    "        func=lambda q: str(index.as_query_engine().query(q)),\n",
    "        description=\"The customer data set of a bank\",\n",
    "        return_direct=True\n",
    "    ),\n",
    "]"
   ]
  },
  {
   "cell_type": "code",
   "execution_count": 42,
   "id": "617ae78c",
   "metadata": {},
   "outputs": [],
   "source": [
    "from langchain.chains.conversation.memory import ConversationBufferMemory\n",
    "from langchain import OpenAI\n",
    "from langchain.agents import initialize_agent\n",
    "\n",
    "agent_type = \"conversational-react-description\"\n",
    "memory = ConversationBufferMemory(memory_key=\"chat_history\")\n",
    "llm = OpenAI(temperature=0)\n",
    "agent_chain = initialize_agent(tools, llm, agent=agent_type, memory =memory, verbose=True)"
   ]
  },
  {
   "cell_type": "code",
   "execution_count": 30,
   "id": "9170056d",
   "metadata": {},
   "outputs": [
    {
     "name": "stdout",
     "output_type": "stream",
     "text": [
      "\n",
      "\n",
      "\u001b[1m> Entering new AgentExecutor chain...\u001b[0m\n",
      "\u001b[32;1m\u001b[1;3m\n",
      "Thought: Do I need to use a tool? Yes\n",
      "Action: GPT Index\n",
      "Action Input: Average balance in customer data set\u001b[0m\n",
      "Observation: \u001b[36;1m\u001b[1;3m\n",
      "The average balance in the customer data set is approximately $112,945.\u001b[0m\n",
      "\u001b[32;1m\u001b[1;3m\u001b[0m\n",
      "\n",
      "\u001b[1m> Finished chain.\u001b[0m\n"
     ]
    },
    {
     "data": {
      "text/plain": [
       "'\\nThe average balance in the customer data set is approximately $112,945.'"
      ]
     },
     "execution_count": 30,
     "metadata": {},
     "output_type": "execute_result"
    }
   ],
   "source": [
    "agent_chain.run(input=\"What is the average balance in my customer data set\")"
   ]
  },
  {
   "cell_type": "code",
   "execution_count": 31,
   "id": "d4f0a4ed",
   "metadata": {},
   "outputs": [
    {
     "name": "stdout",
     "output_type": "stream",
     "text": [
      "\n",
      "\n",
      "\u001b[1m> Entering new AgentExecutor chain...\u001b[0m\n",
      "\u001b[32;1m\u001b[1;3m\n",
      "Thought: Do I need to use a tool? No\n",
      "AI: The average balance was calculated by taking the total balance of all customers in the data set and dividing it by the total number of customers. This gives us an average balance of $112,945.\u001b[0m\n",
      "\n",
      "\u001b[1m> Finished chain.\u001b[0m\n"
     ]
    },
    {
     "data": {
      "text/plain": [
       "'The average balance was calculated by taking the total balance of all customers in the data set and dividing it by the total number of customers. This gives us an average balance of $112,945.'"
      ]
     },
     "execution_count": 31,
     "metadata": {},
     "output_type": "execute_result"
    }
   ],
   "source": [
    "agent_chain.run(input=\"Please give the detail behind your last awnser\")"
   ]
  },
  {
   "cell_type": "code",
   "execution_count": 33,
   "id": "07a36e7d",
   "metadata": {},
   "outputs": [
    {
     "name": "stdout",
     "output_type": "stream",
     "text": [
      "\n",
      "\n",
      "\u001b[1m> Entering new AgentExecutor chain...\u001b[0m\n",
      "\u001b[32;1m\u001b[1;3m\n",
      "Thought: Do I need to use a tool? Yes\n",
      "Action: GPT Index\n",
      "Action Input: customer data set\u001b[0m\n",
      "Observation: \u001b[36;1m\u001b[1;3m\n",
      "The customer data set includes information about 9833 customers, including their name, age, country, gender, number of years in current job, annual income, number of dependents, credit score, number of active credit cards, number of open credit accounts, total balance, and whether they have a personal loan.\u001b[0m\n",
      "\u001b[32;1m\u001b[1;3m\u001b[0m\n",
      "\n",
      "\u001b[1m> Finished chain.\u001b[0m\n"
     ]
    },
    {
     "data": {
      "text/plain": [
       "'\\nThe customer data set includes information about 9833 customers, including their name, age, country, gender, number of years in current job, annual income, number of dependents, credit score, number of active credit cards, number of open credit accounts, total balance, and whether they have a personal loan.'"
      ]
     },
     "execution_count": 33,
     "metadata": {},
     "output_type": "execute_result"
    }
   ],
   "source": [
    "agent_chain.run(input=\"what is the count of n in my data set?\")"
   ]
  },
  {
   "cell_type": "code",
   "execution_count": null,
   "id": "24a24083",
   "metadata": {},
   "outputs": [],
   "source": []
  }
 ],
 "metadata": {
  "kernelspec": {
   "display_name": "streamlit",
   "language": "python",
   "name": "streamlit"
  },
  "language_info": {
   "codemirror_mode": {
    "name": "ipython",
    "version": 3
   },
   "file_extension": ".py",
   "mimetype": "text/x-python",
   "name": "python",
   "nbconvert_exporter": "python",
   "pygments_lexer": "ipython3",
   "version": "3.11.3"
  }
 },
 "nbformat": 4,
 "nbformat_minor": 5
}
